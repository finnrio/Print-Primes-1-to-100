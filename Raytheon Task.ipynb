{
 "cells": [
  {
   "cell_type": "code",
   "execution_count": 49,
   "metadata": {},
   "outputs": [],
   "source": [
    "#Task:\n",
    "#Using Python3 (https://python.org/downloads/) as a programming language produce a programme that\n",
    "#displays the prime numbers between 1 and 100\n"
   ]
  },
  {
   "cell_type": "code",
   "execution_count": 50,
   "metadata": {},
   "outputs": [],
   "source": [
    "#this is a function to check if a number is prime\n",
    "#where n is the variable that we are checking\n",
    "def isPrime(n):\n",
    "    #this checks to see if the number (n) is larger than 1\n",
    "    #as 1 or 0 are not composite but also not a prime numbers\n",
    "    if n > 1:\n",
    "        #if the number is greater than 1 it is checked to see if it\n",
    "        #is prime by seeing if it is divisible by everynumber greater\n",
    "        #than 1 and less than itself\n",
    "        for x in range(2, n):\n",
    "            #if there is no remainder to the equation the number is composite\n",
    "            #meaning that it is divisible by more than just itself and 1\n",
    "            if (n % x) == 0:\n",
    "                return(False)\n",
    "        #if the number was not composite this else statement is carried out\n",
    "        #and the function is returned as True\n",
    "        else:\n",
    "            return(True)\n",
    "    #this returns False is the number (n) was not larger than 1\n",
    "    else:\n",
    "        return(False)"
   ]
  },
  {
   "cell_type": "code",
   "execution_count": 51,
   "metadata": {},
   "outputs": [],
   "source": [
    "#this is a funciton that prints the prime numbers within a range\n",
    "#where min is the minimum number of the range and max is the\n",
    "#maximum number in the range\n",
    "def printPrimes(min, max):\n",
    "    x = min\n",
    "    #this creates a list to store the prime numbers\n",
    "    #using a list means you can store the numbers and rather than printing each\n",
    "    #number on a separate line you can display them as a list.\n",
    "    primeNumbers = []\n",
    "    #this while loops tests each number in the range being searched\n",
    "    while x <= max:\n",
    "        #if the number is prime it is returned as true from the isPrime\n",
    "        #function\n",
    "        if isPrime(x) is True:\n",
    "            #this adds the number to the primeNumbers list if it is prime\n",
    "            primeNumbers.append(x)\n",
    "        #the number being searched is then incremented by 1\n",
    "        x += 1\n",
    "    #print all the prime numbers found\n",
    "    #the * removes the squared brackets around the list for presentation.\n",
    "    print(*primeNumbers)"
   ]
  },
  {
   "cell_type": "code",
   "execution_count": 52,
   "metadata": {},
   "outputs": [
    {
     "name": "stdout",
     "output_type": "stream",
     "text": [
      "Here are a list of the prime numbers from 0 to 100:\n",
      "2 3 5 7 11 13 17 19 23 29 31 37 41 43 47 53 59 61 67 71 73 79 83 89 97\n"
     ]
    }
   ],
   "source": [
    "#this block of code is to display the prime numbers to the user\n",
    "print(\"Here are a list of the prime numbers from 0 to 100:\")\n",
    "printPrimes(0, 100)"
   ]
  },
  {
   "cell_type": "code",
   "execution_count": null,
   "metadata": {
    "scrolled": true
   },
   "outputs": [],
   "source": []
  },
  {
   "cell_type": "code",
   "execution_count": null,
   "metadata": {},
   "outputs": [],
   "source": []
  }
 ],
 "metadata": {
  "kernelspec": {
   "display_name": "Python 3",
   "language": "python",
   "name": "python3"
  },
  "language_info": {
   "codemirror_mode": {
    "name": "ipython",
    "version": 3
   },
   "file_extension": ".py",
   "mimetype": "text/x-python",
   "name": "python",
   "nbconvert_exporter": "python",
   "pygments_lexer": "ipython3",
   "version": "3.7.6"
  }
 },
 "nbformat": 4,
 "nbformat_minor": 4
}
